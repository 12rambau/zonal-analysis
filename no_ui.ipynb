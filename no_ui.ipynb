{
 "cells": [
  {
   "cell_type": "markdown",
   "metadata": {},
   "source": [
    "## Introduction\n",
    "This notebook is intented for the users that experience difficulties executing the voila dashboard contained in UI.ipynb. It provides the same fonctionalities that you can run and use by clicking on : \n",
    "```\n",
    "Kernel -> Restart & Run All\n",
    "```"
   ]
  },
  {
   "cell_type": "code",
   "execution_count": 1,
   "metadata": {},
   "outputs": [],
   "source": [
    "%%capture\n",
    "import sys\n",
    "!{sys.executable} -m pip install 'sepal-ui>=0.7.1-beta'"
   ]
  },
  {
   "cell_type": "code",
   "execution_count": 2,
   "metadata": {},
   "outputs": [],
   "source": [
    "#add all the tiles\n",
    "%run 'aoi_selector_ui.ipynb'\n",
    "%run 'zonal_ui.ipynb'\n",
    "%run 'about_ui.ipynb'"
   ]
  },
  {
   "cell_type": "code",
   "execution_count": 3,
   "metadata": {
    "scrolled": false
   },
   "outputs": [
    {
     "data": {
      "application/vnd.jupyter.widget-view+json": {
       "model_id": "27231abed2234223964fbc110038891f",
       "version_major": 2,
       "version_minor": 0
      },
      "text/plain": [
       "TileAoi(align_center=True, children=[Card(children=[Html(children=['AOI selection'], tag='h2'), Flex(children=…"
      ]
     },
     "metadata": {},
     "output_type": "display_data"
    }
   ],
   "source": [
    "za_aoi"
   ]
  },
  {
   "cell_type": "code",
   "execution_count": 4,
   "metadata": {},
   "outputs": [
    {
     "data": {
      "application/vnd.jupyter.widget-view+json": {
       "model_id": "6c8bfe4d47104cfba1ef9ae087f3d1b9",
       "version_major": 2,
       "version_minor": 0
      },
      "text/plain": [
       "Tile(align_center=True, children=[Card(children=[Html(children=['Zonal analysis'], tag='h2'), Flex(children=['…"
      ]
     },
     "metadata": {},
     "output_type": "display_data"
    }
   ],
   "source": [
    "za_process"
   ]
  },
  {
   "cell_type": "code",
   "execution_count": 5,
   "metadata": {
    "scrolled": false
   },
   "outputs": [
    {
     "data": {
      "application/vnd.jupyter.widget-view+json": {
       "model_id": "9d60b0ab73d2451682de882afcaef98f",
       "version_major": 2,
       "version_minor": 0
      },
      "text/plain": [
       "Tile(align_center=True, children=[Card(children=[Html(children=['Results'], tag='h2'), Flex(children=[''], xs1…"
      ]
     },
     "metadata": {},
     "output_type": "display_data"
    }
   ],
   "source": [
    "za_results"
   ]
  },
  {
   "cell_type": "code",
   "execution_count": 6,
   "metadata": {},
   "outputs": [
    {
     "data": {
      "application/vnd.jupyter.widget-view+json": {
       "model_id": "36d34a606fb24f14950953d8e99f2f90",
       "version_major": 2,
       "version_minor": 0
      },
      "text/plain": [
       "TileAbout(align_center=True, children=[Card(children=[Html(children=['About'], tag='h2'), Flex(children=[MyHTM…"
      ]
     },
     "metadata": {},
     "output_type": "display_data"
    }
   ],
   "source": [
    "za_about"
   ]
  },
  {
   "cell_type": "code",
   "execution_count": 7,
   "metadata": {},
   "outputs": [
    {
     "data": {
      "application/vnd.jupyter.widget-view+json": {
       "model_id": "570e1e51771f45808e4b64a7b76a45a6",
       "version_major": 2,
       "version_minor": 0
      },
      "text/plain": [
       "TileDisclaimer(align_center=True, children=[Card(children=[Html(children=['Disclaimer'], tag='h2'), Flex(child…"
      ]
     },
     "metadata": {},
     "output_type": "display_data"
    }
   ],
   "source": [
    "za_disclaimer"
   ]
  },
  {
   "cell_type": "code",
   "execution_count": null,
   "metadata": {},
   "outputs": [],
   "source": []
  }
 ],
 "metadata": {
  "kernelspec": {
   "display_name": "Python 3",
   "language": "python",
   "name": "python3"
  },
  "language_info": {
   "codemirror_mode": {
    "name": "ipython",
    "version": 3
   },
   "file_extension": ".py",
   "mimetype": "text/x-python",
   "name": "python",
   "nbconvert_exporter": "python",
   "pygments_lexer": "ipython3",
   "version": "3.6.9"
  }
 },
 "nbformat": 4,
 "nbformat_minor": 4
}
