{
 "cells": [
  {
   "cell_type": "markdown",
   "metadata": {},
   "source": [
    "## Introduction\n",
    "This notebook is intented for the users that experience difficulties executing the voila dashboard contained in UI.ipynb. It provides the same fonctionalities that you can run and use by clicking on : \n",
    "```\n",
    "Kernel -> Restart & Run All\n",
    "```"
   ]
  },
  {
   "cell_type": "code",
   "execution_count": 1,
   "metadata": {},
   "outputs": [],
   "source": [
    "%%capture\n",
    "import sys\n",
    "!{sys.executable} -m pip install 'sepal-ui>=0.7.1-beta'"
   ]
  },
  {
   "cell_type": "code",
   "execution_count": 2,
   "metadata": {},
   "outputs": [],
   "source": [
    "#add all the tiles\n",
    "%run 'aoi_selector_ui.ipynb'\n",
    "#%run 'import_alerts_ui.ipynb'\n",
    "#%run 'sepal_process_ui.ipynb'\n",
    "%run 'about_ui.ipynb'"
   ]
  },
  {
   "cell_type": "code",
   "execution_count": 3,
   "metadata": {},
   "outputs": [
    {
     "data": {
      "application/vnd.jupyter.widget-view+json": {
       "model_id": "72926c2412684fbebd737cca3368e438",
       "version_major": 2,
       "version_minor": 0
      },
      "text/plain": [
       "TileAoi(align_center=True, children=[Card(children=[Html(children=['AOI selection'], tag='h2'), Flex(children=…"
      ]
     },
     "metadata": {},
     "output_type": "display_data"
    }
   ],
   "source": [
    "za_aoi"
   ]
  },
  {
   "cell_type": "code",
   "execution_count": null,
   "metadata": {},
   "outputs": [
    {
     "data": {
      "application/vnd.jupyter.widget-view+json": {
       "model_id": "75a84368a71b4032b4bebd0fbe42c0f4",
       "version_major": 2,
       "version_minor": 0
      },
      "text/plain": [
       "TileAbout(align_center=True, children=[Card(children=[Html(children=['About'], tag='h2'), Flex(children=[MyHTM…"
      ]
     },
     "metadata": {},
     "output_type": "display_data"
    }
   ],
   "source": [
    "za_about"
   ]
  },
  {
   "cell_type": "code",
   "execution_count": null,
   "metadata": {},
   "outputs": [
    {
     "data": {
      "application/vnd.jupyter.widget-view+json": {
       "model_id": "4355cf42ef064f089c3e32ee495080b4",
       "version_major": 2,
       "version_minor": 0
      },
      "text/plain": [
       "TileDisclaimer(align_center=True, children=[Card(children=[Html(children=['Disclaimer'], tag='h2'), Flex(child…"
      ]
     },
     "metadata": {},
     "output_type": "display_data"
    }
   ],
   "source": [
    "za_disclaimer"
   ]
  },
  {
   "cell_type": "code",
   "execution_count": null,
   "metadata": {},
   "outputs": [],
   "source": []
  }
 ],
 "metadata": {
  "kernelspec": {
   "display_name": "Python 3",
   "language": "python",
   "name": "python3"
  },
  "language_info": {
   "codemirror_mode": {
    "name": "ipython",
    "version": 3
   },
   "file_extension": ".py",
   "mimetype": "text/x-python",
   "name": "python",
   "nbconvert_exporter": "python",
   "pygments_lexer": "ipython3",
   "version": "3.6.9"
  }
 },
 "nbformat": 4,
 "nbformat_minor": 4
}
