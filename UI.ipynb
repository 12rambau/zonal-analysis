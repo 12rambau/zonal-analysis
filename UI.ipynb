{
 "cells": [
  {
   "cell_type": "code",
   "execution_count": 1,
   "metadata": {},
   "outputs": [],
   "source": [
    "import ipyvuetify as v\n",
    "import ipywidgets\n",
    "from scripts import zonal_computation as zc"
   ]
  },
  {
   "cell_type": "code",
   "execution_count": 2,
   "metadata": {},
   "outputs": [],
   "source": [
    "#input \n",
    "country = None"
   ]
  },
  {
   "cell_type": "code",
   "execution_count": 3,
   "metadata": {},
   "outputs": [],
   "source": [
    "#map widget\n",
    "import ee\n",
    "import geemap\n",
    "\n",
    "ee.Initialize()\n",
    "\n",
    "m = geemap.Map()"
   ]
  },
  {
   "cell_type": "code",
   "execution_count": 4,
   "metadata": {},
   "outputs": [],
   "source": [
    "list_country = {\n",
    "    'brésil': 'BR', \n",
    "    'colombie': 'CO', \n",
    "    'peru': 'PE', \n",
    "    'cameroun': 'CM', \n",
    "    'congo': 'CF', \n",
    "    'rdc': 'CG', \n",
    "    'gabon': 'GB', \n",
    "    'Ouganda': 'UG', \n",
    "    'ghana': 'GH', \n",
    "    \"côte d'Ivoire\": 'IV', \n",
    "    'indonésie': 'ID',\n",
    "    'malaisie': 'MY' \n",
    "}"
   ]
  },
  {
   "cell_type": "code",
   "execution_count": 5,
   "metadata": {},
   "outputs": [],
   "source": [
    "aoi_country_selection = v.Select(items=[*list_country], label='Country/Province', v_model=None, class_=\"d-inline\")\n",
    "\n",
    "def on_country_change(widget, event, data):\n",
    "    global country_selection\n",
    "\n",
    "    country = list_country[widget.v_model]\n",
    "\n",
    "aoi_country_selection.on_event('change', on_country_change )"
   ]
  },
  {
   "cell_type": "code",
   "execution_count": 6,
   "metadata": {},
   "outputs": [],
   "source": [
    "#validate the selected data \n",
    "aoi_select_btn = v.Btn(\n",
    "    color='primary', \n",
    "    children=[\n",
    "        v.Icon(left=True, children=['mdi-map-marker-check']),\n",
    "        'Select these inputs'\n",
    "    ]\n",
    ")\n",
    "\n",
    "def aoi_on_click(widget, event, data):\n",
    "    \n",
    "    #io variables \n",
    "    global country\n",
    "    \n",
    "    #do something \n",
    "    #utils.toggleLoading(aoi_select_btn)\n",
    "    figs = zc.run_zonal_computation(country, m)\n",
    "    #update the figs in the results tile\n",
    "    process_hist.children = figs\n",
    "    \n",
    "    #utils.toggleLoading(aoi_select_btn)\n",
    "    \n",
    "    \n",
    "\n",
    "aoi_select_btn.on_event('click', aoi_on_click)"
   ]
  },
  {
   "cell_type": "code",
   "execution_count": 7,
   "metadata": {},
   "outputs": [],
   "source": [
    "#create the display \n",
    "inputs = v.Layout(\n",
    "    _metadata={'mount-id': 'data-input'},\n",
    "    class_=\"pa-5\",\n",
    "    row=True,\n",
    "    align_center=True, \n",
    "    children=[\n",
    "        v.Flex(xs12=True, children=[aoi_country_selection]),\n",
    "        aoi_select_btn\n",
    "    ]\n",
    ")\n",
    "#inputs\n",
    "\n",
    "AOI_content_main =  v.Layout(\n",
    "    dark=True,\n",
    "    _metadata={'mount_id': 'step-1-widget'},\n",
    "    xs12=True,\n",
    "    row=True,\n",
    "    class_=\"ma-5 d-inline\",\n",
    "    children=[\n",
    "        v.Card(\n",
    "            class_=\"pa-5\",\n",
    "            raised=True,\n",
    "            xs12=True,\n",
    "            children=[\n",
    "                v.Html(xs12=True, tag='h2', children=['Selectionner le pays']),\n",
    "                v.Layout(\n",
    "                    row=True,\n",
    "                    xs12=True,\n",
    "                    children=[\n",
    "                        v.Flex(xs12=True, md6=True, children=[inputs]),\n",
    "                        v.Flex(class_=\"pa-5\", xs12=True, md6=True, children=[m])\n",
    "                    ]\n",
    "                )    \n",
    "            ]\n",
    "        )\n",
    "    ]\n",
    ")"
   ]
  },
  {
   "cell_type": "code",
   "execution_count": 8,
   "metadata": {},
   "outputs": [],
   "source": [
    "footer = v.Footer(\n",
    "    color='#2e7d32',\n",
    "    class_=\"white--text\",\n",
    "    app = True,\n",
    "    children = ['SEPAL \\u00A9 2020']\n",
    ")"
   ]
  },
  {
   "cell_type": "code",
   "execution_count": 9,
   "metadata": {},
   "outputs": [],
   "source": [
    "appBar = v.AppBar(\n",
    "    color=\"#2e7d32\",\n",
    "    class_=\"white--text\",\n",
    "    dense=True,\n",
    "    app = True,\n",
    "    children = [v.ToolbarTitle(children=['Zonal analysis'])]\n",
    ")"
   ]
  },
  {
   "cell_type": "code",
   "execution_count": 10,
   "metadata": {},
   "outputs": [],
   "source": [
    "download_csv = v.Btn(\n",
    "    class_='ma-2',\n",
    "    xs5=True,\n",
    "    color='primary',\n",
    "    href='#',\n",
    "    children=[\n",
    "        v.Icon(left=True, children=['mdi-download']),\n",
    "        'download .csv'\n",
    "    ]\n",
    ")\n",
    "\n",
    "process_hist = v.Flex(xs12=True, lg6=True, class_='pa-0', children=['no result yet'])\n",
    "\n",
    "results = v.Layout(\n",
    "    _metadata={'mount_id': 'widget_result'},\n",
    "    Row=True,\n",
    "    xs12=True,\n",
    "    align_center=True,\n",
    "    class_=\"ma-5 d-inline\",\n",
    "    children=[\n",
    "        v.Card( \n",
    "            class_=\"pa-5\",\n",
    "            raised=True,\n",
    "            xs12=True,\n",
    "            children=[\n",
    "                v.Html(xs12=True, tag='h2', children=['Results']),\n",
    "                v.Layout(Row=True, xs12=True, children=[\n",
    "                    download_csv\n",
    "                ]),\n",
    "                process_hist  \n",
    "            ]\n",
    "        )\n",
    "    ]\n",
    ")"
   ]
  },
  {
   "cell_type": "code",
   "execution_count": 11,
   "metadata": {},
   "outputs": [],
   "source": [
    "content = v.Content(\n",
    "    children=[\n",
    "        v.Container(\n",
    "            fluid=True,\n",
    "            children = [\n",
    "                AOI_content_main, \n",
    "                results\n",
    "            ]\n",
    "        )\n",
    "    ]\n",
    ")"
   ]
  },
  {
   "cell_type": "code",
   "execution_count": 12,
   "metadata": {},
   "outputs": [
    {
     "data": {
      "application/vnd.jupyter.widget-view+json": {
       "model_id": "2325a20cceba4a6bb2b40786dd190659",
       "version_major": 2,
       "version_minor": 0
      },
      "text/plain": [
       "App(children=[AppBar(app=True, children=[ToolbarTitle(children=['Zonal analysis'])], class_='white--text', col…"
      ]
     },
     "metadata": {},
     "output_type": "display_data"
    }
   ],
   "source": [
    "app = v.App(v_model=None)\n",
    "app.children = [appBar, content, footer]\n",
    "app"
   ]
  },
  {
   "cell_type": "code",
   "execution_count": 13,
   "metadata": {},
   "outputs": [
    {
     "data": {
      "application/vnd.jupyter.widget-view+json": {
       "model_id": "f3a3a52fc3074783a255e630713bcea4",
       "version_major": 2,
       "version_minor": 0
      },
      "text/plain": [
       "Map(center=[40, -100], controls=(WidgetControl(options=['position'], widget=HBox(children=(ToggleButton(value=…"
      ]
     },
     "metadata": {},
     "output_type": "display_data"
    }
   ],
   "source": [
    "m"
   ]
  },
  {
   "cell_type": "code",
   "execution_count": null,
   "metadata": {},
   "outputs": [
    {
     "name": "stdout",
     "output_type": "stream",
     "text": [
      "Computing statistics ...\n",
      "Generating URL ...\n"
     ]
    }
   ],
   "source": [
    "\n",
    "country = 'CG'\n",
    "zc.run_zonal_computation(country, m)\n"
   ]
  },
  {
   "cell_type": "code",
   "execution_count": null,
   "metadata": {},
   "outputs": [],
   "source": []
  }
 ],
 "metadata": {
  "kernelspec": {
   "display_name": "Python 3",
   "language": "python",
   "name": "python3"
  },
  "language_info": {
   "codemirror_mode": {
    "name": "ipython",
    "version": 3
   },
   "file_extension": ".py",
   "mimetype": "text/x-python",
   "name": "python",
   "nbconvert_exporter": "python",
   "pygments_lexer": "ipython3",
   "version": "3.6.9"
  }
 },
 "nbformat": 4,
 "nbformat_minor": 4
}
