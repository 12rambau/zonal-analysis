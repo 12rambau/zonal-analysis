{
 "cells": [
  {
   "cell_type": "code",
   "execution_count": null,
   "metadata": {},
   "outputs": [],
   "source": [
    "from functools import partial \n",
    "\n",
    "import ipyvuetify as v\n",
    "from sepal_ui import sepalwidgets as sw\n",
    "from sepal_ui import mapping as sm\n",
    "\n",
    "from scripts import zonal_computation as zc\n",
    "from utils import message as ms"
   ]
  },
  {
   "cell_type": "code",
   "execution_count": null,
   "metadata": {},
   "outputs": [],
   "source": [
    "#class io as a mutalle object \n",
    "class Zonal_io:\n",
    "    def __init(self):\n",
    "        #input \n",
    "        self.toto = 'toto'\n",
    "        #output\n",
    "        \n",
    "za_io = Zonal_io()"
   ]
  },
  {
   "cell_type": "code",
   "execution_count": null,
   "metadata": {},
   "outputs": [],
   "source": [
    "za_output = sw.Alert()\n",
    "za_btn = sw.Btn('Start zonal analysis')\n",
    "\n",
    "#title\n",
    "id_ = 'zonal_widget'\n",
    "title = 'Zonal analysis'\n",
    "\n",
    "za_process = sw.Tile(id_, title, btn = za_btn, output= za_output, inputs=[''])"
   ]
  },
  {
   "cell_type": "code",
   "execution_count": null,
   "metadata": {},
   "outputs": [],
   "source": [
    "#create the result tile \n",
    "title = \"Results\"\n",
    "    \n",
    "za_results = sw.Tile(id_, title, inputs=[''])"
   ]
  },
  {
   "cell_type": "code",
   "execution_count": null,
   "metadata": {},
   "outputs": [],
   "source": [
    "#define a custom function \n",
    "\n",
    "def process_start(widget, event, data, output):\n",
    "    \n",
    "    widget.toggle_loading()\n",
    "    \n",
    "    #check that the asset is defined \n",
    "    if not output.check_input(za_aoi_io.assetId, ms.NO_AOI): return widget.toggle_loading()\n",
    "    \n",
    "    #try:\n",
    "        #display the layout in the tile\n",
    "    layout = zc.run_zonal_computation(za_aoi_io.assetId, output)\n",
    "    za_results.set_content(layout)\n",
    "    \n",
    "    #except Exception as e: \n",
    "    #    output.add_live_msg(str(e), 'error')\n",
    "    \n",
    "    widget.toggle_loading()\n",
    "    \n",
    "    return \n",
    "\n",
    "za_btn.on_event('click', partial(process_start, output = za_output))"
   ]
  },
  {
   "cell_type": "code",
   "execution_count": null,
   "metadata": {},
   "outputs": [],
   "source": [
    "za_process"
   ]
  },
  {
   "cell_type": "code",
   "execution_count": null,
   "metadata": {},
   "outputs": [],
   "source": [
    "za_results"
   ]
  },
  {
   "cell_type": "code",
   "execution_count": null,
   "metadata": {},
   "outputs": [],
   "source": []
  }
 ],
 "metadata": {
  "kernelspec": {
   "display_name": "Python 3",
   "language": "python",
   "name": "python3"
  },
  "language_info": {
   "codemirror_mode": {
    "name": "ipython",
    "version": 3
   },
   "file_extension": ".py",
   "mimetype": "text/x-python",
   "name": "python",
   "nbconvert_exporter": "python",
   "pygments_lexer": "ipython3",
   "version": "3.6.9"
  }
 },
 "nbformat": 4,
 "nbformat_minor": 4
}
