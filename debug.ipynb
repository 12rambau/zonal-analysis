{
 "cells": [
  {
   "cell_type": "code",
   "execution_count": 1,
   "metadata": {},
   "outputs": [],
   "source": [
    "list_country = [\n",
    "    'BR', #brésil\n",
    "    'CO', #colombie\n",
    "    'PE', #peru\n",
    "    'CM', #cameroun\n",
    "    'CF', #congo\n",
    "    'CG', #rdc\n",
    "    'GB', #gabon\n",
    "    'UG', #Ouganda\n",
    "    'GH', #ghana\n",
    "    'IV', #côte d'Ivoire\n",
    "    'ID', #indonésie\n",
    "    'MY', #malaisie\n",
    "]"
   ]
  },
  {
   "cell_type": "code",
   "execution_count": 2,
   "metadata": {
    "scrolled": false
   },
   "outputs": [],
   "source": [
    "country_code = list_country[3] "
   ]
  },
  {
   "cell_type": "code",
   "execution_count": 3,
   "metadata": {},
   "outputs": [
    {
     "data": {
      "application/vnd.jupyter.widget-view+json": {
       "model_id": "4508d59ba4324af7904e95e9984c6d5b",
       "version_major": 2,
       "version_minor": 0
      },
      "text/plain": [
       "Map(center=[5.683679386840729, 12.738353454424], controls=(WidgetControl(options=['position'], widget=HBox(chi…"
      ]
     },
     "metadata": {},
     "output_type": "display_data"
    }
   ],
   "source": [
    "import geemap\n",
    "import ee\n",
    "\n",
    "ee.Initialize()\n",
    "\n",
    "Map = geemap.Map()\n",
    "country = ee.FeatureCollection('USDOS/LSIB_SIMPLE/2017').filter(ee.Filter.eq('country_co', country_code))\n",
    "Map.addLayer(country, {}, 'country_code')\n",
    "Map.centerObject(country)\n",
    "Map"
   ]
  },
  {
   "cell_type": "code",
   "execution_count": 4,
   "metadata": {},
   "outputs": [
    {
     "data": {
      "application/vnd.jupyter.widget-view+json": {
       "model_id": "b1c8c6cb48a84c7a8c0a0cf6321c0637",
       "version_major": 2,
       "version_minor": 0
      },
      "text/plain": [
       "Alert(children=['Click it'], class_='mt-5', text=True, type='info')"
      ]
     },
     "metadata": {},
     "output_type": "display_data"
    }
   ],
   "source": [
    "from sepal_ui import widgetFactory as wf\n",
    "\n",
    "output = wf.OutputWidget()\n",
    "output"
   ]
  },
  {
   "cell_type": "code",
   "execution_count": 5,
   "metadata": {},
   "outputs": [],
   "source": [
    "from scripts import zonal_computation as zc\n",
    "\n",
    "#launch the process \n",
    "raw_data = '/home/prambaud/zonal_results/CM/CM_raw_data.txt'"
   ]
  },
  {
   "cell_type": "code",
   "execution_count": 6,
   "metadata": {},
   "outputs": [
    {
     "data": {
      "text/plain": [
       "['Tropical rainforest',\n",
       " 'Tropical moist forest',\n",
       " 'Tropical dry forest',\n",
       " 'Tropical shrubland',\n",
       " 'Tropical mountain system',\n",
       " 'Water']"
      ]
     },
     "execution_count": 6,
     "metadata": {},
     "output_type": "execute_result"
    }
   ],
   "source": [
    "import pandas as pd\n",
    "from scripts import zonal_computation as zc\n",
    "\n",
    "df = pd.read_csv(raw_data, sep=' ', header=None)\n",
    "names = ['code', 'total'] + ['tc{:02}'.format(i) for i in range (df.shape[1]-2)]\n",
    "df.columns = names\n",
    "\n",
    "#ajouter les colonnes maquantes \n",
    "for i in range(df.shape[1]-2, 100+1):\n",
    "    df['tc{:02}'.format(i)] = [0 for j in range(len(df))]\n",
    "    \n",
    "df['zone'] = [zc.get_ecozones()[code] for code in df['code']]\n",
    "    \n",
    "[zc.get_ecozones()[code] for code in df['code']]"
   ]
  },
  {
   "cell_type": "code",
   "execution_count": 7,
   "metadata": {},
   "outputs": [
    {
     "name": "stdout",
     "output_type": "stream",
     "text": [
      "Empty DataFrame\n",
      "Columns: [code, total, tc00, tc01, tc02, tc03, tc04, tc05, tc06, tc07, tc08, tc09, tc10, tc11, tc12, tc13, tc14, tc15, tc16, tc17, tc18, tc19, tc20, tc21, tc22, tc23, tc24, tc25, tc26, tc27, tc28, tc29, tc30, tc31, tc32, tc33, tc34, tc35, tc36, tc37, tc38, tc39, tc40, tc41, tc42, tc43, tc44, tc45, tc46, tc47, tc48, tc49, tc50, tc51, tc52, tc53, tc54, tc55, tc56, tc57, tc58, tc59, tc60, tc61, tc62, tc63, tc64, tc65, tc66, tc67, tc68, tc69, tc70, tc71, tc72, tc73, tc74, tc75, tc76, tc77, tc78, tc79, tc80, tc81, tc82, tc83, tc84, tc85, tc86, tc87, tc88, tc89, tc90, tc91, tc92, tc93, tc94, tc95, tc96, tc97, ...]\n",
      "Index: []\n",
      "\n",
      "[0 rows x 104 columns]\n",
      "Empty DataFrame\n",
      "Columns: [code, total, tc00, tc01, tc02, tc03, tc04, tc05, tc06, tc07, tc08, tc09, tc10, tc11, tc12, tc13, tc14, tc15, tc16, tc17, tc18, tc19, tc20, tc21, tc22, tc23, tc24, tc25, tc26, tc27, tc28, tc29, tc30, tc31, tc32, tc33, tc34, tc35, tc36, tc37, tc38, tc39, tc40, tc41, tc42, tc43, tc44, tc45, tc46, tc47, tc48, tc49, tc50, tc51, tc52, tc53, tc54, tc55, tc56, tc57, tc58, tc59, tc60, tc61, tc62, tc63, tc64, tc65, tc66, tc67, tc68, tc69, tc70, tc71, tc72, tc73, tc74, tc75, tc76, tc77, tc78, tc79, tc80, tc81, tc82, tc83, tc84, tc85, tc86, tc87, tc88, tc89, tc90, tc91, tc92, tc93, tc94, tc95, tc96, tc97, ...]\n",
      "Index: []\n",
      "\n",
      "[0 rows x 104 columns]\n",
      "Empty DataFrame\n",
      "Columns: [code, total, tc00, tc01, tc02, tc03, tc04, tc05, tc06, tc07, tc08, tc09, tc10, tc11, tc12, tc13, tc14, tc15, tc16, tc17, tc18, tc19, tc20, tc21, tc22, tc23, tc24, tc25, tc26, tc27, tc28, tc29, tc30, tc31, tc32, tc33, tc34, tc35, tc36, tc37, tc38, tc39, tc40, tc41, tc42, tc43, tc44, tc45, tc46, tc47, tc48, tc49, tc50, tc51, tc52, tc53, tc54, tc55, tc56, tc57, tc58, tc59, tc60, tc61, tc62, tc63, tc64, tc65, tc66, tc67, tc68, tc69, tc70, tc71, tc72, tc73, tc74, tc75, tc76, tc77, tc78, tc79, tc80, tc81, tc82, tc83, tc84, tc85, tc86, tc87, tc88, tc89, tc90, tc91, tc92, tc93, tc94, tc95, tc96, tc97, ...]\n",
      "Index: []\n",
      "\n",
      "[0 rows x 104 columns]\n",
      "Empty DataFrame\n",
      "Columns: [code, total, tc00, tc01, tc02, tc03, tc04, tc05, tc06, tc07, tc08, tc09, tc10, tc11, tc12, tc13, tc14, tc15, tc16, tc17, tc18, tc19, tc20, tc21, tc22, tc23, tc24, tc25, tc26, tc27, tc28, tc29, tc30, tc31, tc32, tc33, tc34, tc35, tc36, tc37, tc38, tc39, tc40, tc41, tc42, tc43, tc44, tc45, tc46, tc47, tc48, tc49, tc50, tc51, tc52, tc53, tc54, tc55, tc56, tc57, tc58, tc59, tc60, tc61, tc62, tc63, tc64, tc65, tc66, tc67, tc68, tc69, tc70, tc71, tc72, tc73, tc74, tc75, tc76, tc77, tc78, tc79, tc80, tc81, tc82, tc83, tc84, tc85, tc86, tc87, tc88, tc89, tc90, tc91, tc92, tc93, tc94, tc95, tc96, tc97, ...]\n",
      "Index: []\n",
      "\n",
      "[0 rows x 104 columns]\n",
      "Empty DataFrame\n",
      "Columns: [code, total, tc00, tc01, tc02, tc03, tc04, tc05, tc06, tc07, tc08, tc09, tc10, tc11, tc12, tc13, tc14, tc15, tc16, tc17, tc18, tc19, tc20, tc21, tc22, tc23, tc24, tc25, tc26, tc27, tc28, tc29, tc30, tc31, tc32, tc33, tc34, tc35, tc36, tc37, tc38, tc39, tc40, tc41, tc42, tc43, tc44, tc45, tc46, tc47, tc48, tc49, tc50, tc51, tc52, tc53, tc54, tc55, tc56, tc57, tc58, tc59, tc60, tc61, tc62, tc63, tc64, tc65, tc66, tc67, tc68, tc69, tc70, tc71, tc72, tc73, tc74, tc75, tc76, tc77, tc78, tc79, tc80, tc81, tc82, tc83, tc84, tc85, tc86, tc87, tc88, tc89, tc90, tc91, tc92, tc93, tc94, tc95, tc96, tc97, ...]\n",
      "Index: []\n",
      "\n",
      "[0 rows x 104 columns]\n",
      "Empty DataFrame\n",
      "Columns: [code, total, tc00, tc01, tc02, tc03, tc04, tc05, tc06, tc07, tc08, tc09, tc10, tc11, tc12, tc13, tc14, tc15, tc16, tc17, tc18, tc19, tc20, tc21, tc22, tc23, tc24, tc25, tc26, tc27, tc28, tc29, tc30, tc31, tc32, tc33, tc34, tc35, tc36, tc37, tc38, tc39, tc40, tc41, tc42, tc43, tc44, tc45, tc46, tc47, tc48, tc49, tc50, tc51, tc52, tc53, tc54, tc55, tc56, tc57, tc58, tc59, tc60, tc61, tc62, tc63, tc64, tc65, tc66, tc67, tc68, tc69, tc70, tc71, tc72, tc73, tc74, tc75, tc76, tc77, tc78, tc79, tc80, tc81, tc82, tc83, tc84, tc85, tc86, tc87, tc88, tc89, tc90, tc91, tc92, tc93, tc94, tc95, tc96, tc97, ...]\n",
      "Index: []\n",
      "\n",
      "[0 rows x 104 columns]\n",
      "Empty DataFrame\n",
      "Columns: [code, total, tc00, tc01, tc02, tc03, tc04, tc05, tc06, tc07, tc08, tc09, tc10, tc11, tc12, tc13, tc14, tc15, tc16, tc17, tc18, tc19, tc20, tc21, tc22, tc23, tc24, tc25, tc26, tc27, tc28, tc29, tc30, tc31, tc32, tc33, tc34, tc35, tc36, tc37, tc38, tc39, tc40, tc41, tc42, tc43, tc44, tc45, tc46, tc47, tc48, tc49, tc50, tc51, tc52, tc53, tc54, tc55, tc56, tc57, tc58, tc59, tc60, tc61, tc62, tc63, tc64, tc65, tc66, tc67, tc68, tc69, tc70, tc71, tc72, tc73, tc74, tc75, tc76, tc77, tc78, tc79, tc80, tc81, tc82, tc83, tc84, tc85, tc86, tc87, tc88, tc89, tc90, tc91, tc92, tc93, tc94, tc95, tc96, tc97, ...]\n",
      "Index: []\n",
      "\n",
      "[0 rows x 104 columns]\n",
      "Empty DataFrame\n",
      "Columns: [code, total, tc00, tc01, tc02, tc03, tc04, tc05, tc06, tc07, tc08, tc09, tc10, tc11, tc12, tc13, tc14, tc15, tc16, tc17, tc18, tc19, tc20, tc21, tc22, tc23, tc24, tc25, tc26, tc27, tc28, tc29, tc30, tc31, tc32, tc33, tc34, tc35, tc36, tc37, tc38, tc39, tc40, tc41, tc42, tc43, tc44, tc45, tc46, tc47, tc48, tc49, tc50, tc51, tc52, tc53, tc54, tc55, tc56, tc57, tc58, tc59, tc60, tc61, tc62, tc63, tc64, tc65, tc66, tc67, tc68, tc69, tc70, tc71, tc72, tc73, tc74, tc75, tc76, tc77, tc78, tc79, tc80, tc81, tc82, tc83, tc84, tc85, tc86, tc87, tc88, tc89, tc90, tc91, tc92, tc93, tc94, tc95, tc96, tc97, ...]\n",
      "Index: []\n",
      "\n",
      "[0 rows x 104 columns]\n",
      "Empty DataFrame\n",
      "Columns: [code, total, tc00, tc01, tc02, tc03, tc04, tc05, tc06, tc07, tc08, tc09, tc10, tc11, tc12, tc13, tc14, tc15, tc16, tc17, tc18, tc19, tc20, tc21, tc22, tc23, tc24, tc25, tc26, tc27, tc28, tc29, tc30, tc31, tc32, tc33, tc34, tc35, tc36, tc37, tc38, tc39, tc40, tc41, tc42, tc43, tc44, tc45, tc46, tc47, tc48, tc49, tc50, tc51, tc52, tc53, tc54, tc55, tc56, tc57, tc58, tc59, tc60, tc61, tc62, tc63, tc64, tc65, tc66, tc67, tc68, tc69, tc70, tc71, tc72, tc73, tc74, tc75, tc76, tc77, tc78, tc79, tc80, tc81, tc82, tc83, tc84, tc85, tc86, tc87, tc88, tc89, tc90, tc91, tc92, tc93, tc94, tc95, tc96, tc97, ...]\n",
      "Index: []\n",
      "\n",
      "[0 rows x 104 columns]\n",
      "Empty DataFrame\n",
      "Columns: [code, total, tc00, tc01, tc02, tc03, tc04, tc05, tc06, tc07, tc08, tc09, tc10, tc11, tc12, tc13, tc14, tc15, tc16, tc17, tc18, tc19, tc20, tc21, tc22, tc23, tc24, tc25, tc26, tc27, tc28, tc29, tc30, tc31, tc32, tc33, tc34, tc35, tc36, tc37, tc38, tc39, tc40, tc41, tc42, tc43, tc44, tc45, tc46, tc47, tc48, tc49, tc50, tc51, tc52, tc53, tc54, tc55, tc56, tc57, tc58, tc59, tc60, tc61, tc62, tc63, tc64, tc65, tc66, tc67, tc68, tc69, tc70, tc71, tc72, tc73, tc74, tc75, tc76, tc77, tc78, tc79, tc80, tc81, tc82, tc83, tc84, tc85, tc86, tc87, tc88, tc89, tc90, tc91, tc92, tc93, tc94, tc95, tc96, tc97, ...]\n",
      "Index: []\n",
      "\n",
      "[0 rows x 104 columns]\n",
      "Empty DataFrame\n",
      "Columns: [code, total, tc00, tc01, tc02, tc03, tc04, tc05, tc06, tc07, tc08, tc09, tc10, tc11, tc12, tc13, tc14, tc15, tc16, tc17, tc18, tc19, tc20, tc21, tc22, tc23, tc24, tc25, tc26, tc27, tc28, tc29, tc30, tc31, tc32, tc33, tc34, tc35, tc36, tc37, tc38, tc39, tc40, tc41, tc42, tc43, tc44, tc45, tc46, tc47, tc48, tc49, tc50, tc51, tc52, tc53, tc54, tc55, tc56, tc57, tc58, tc59, tc60, tc61, tc62, tc63, tc64, tc65, tc66, tc67, tc68, tc69, tc70, tc71, tc72, tc73, tc74, tc75, tc76, tc77, tc78, tc79, tc80, tc81, tc82, tc83, tc84, tc85, tc86, tc87, tc88, tc89, tc90, tc91, tc92, tc93, tc94, tc95, tc96, tc97, ...]\n",
      "Index: []\n",
      "\n",
      "[0 rows x 104 columns]\n",
      "Empty DataFrame\n",
      "Columns: [code, total, tc00, tc01, tc02, tc03, tc04, tc05, tc06, tc07, tc08, tc09, tc10, tc11, tc12, tc13, tc14, tc15, tc16, tc17, tc18, tc19, tc20, tc21, tc22, tc23, tc24, tc25, tc26, tc27, tc28, tc29, tc30, tc31, tc32, tc33, tc34, tc35, tc36, tc37, tc38, tc39, tc40, tc41, tc42, tc43, tc44, tc45, tc46, tc47, tc48, tc49, tc50, tc51, tc52, tc53, tc54, tc55, tc56, tc57, tc58, tc59, tc60, tc61, tc62, tc63, tc64, tc65, tc66, tc67, tc68, tc69, tc70, tc71, tc72, tc73, tc74, tc75, tc76, tc77, tc78, tc79, tc80, tc81, tc82, tc83, tc84, tc85, tc86, tc87, tc88, tc89, tc90, tc91, tc92, tc93, tc94, tc95, tc96, tc97, ...]\n",
      "Index: []\n",
      "\n",
      "[0 rows x 104 columns]\n",
      "Empty DataFrame\n",
      "Columns: [code, total, tc00, tc01, tc02, tc03, tc04, tc05, tc06, tc07, tc08, tc09, tc10, tc11, tc12, tc13, tc14, tc15, tc16, tc17, tc18, tc19, tc20, tc21, tc22, tc23, tc24, tc25, tc26, tc27, tc28, tc29, tc30, tc31, tc32, tc33, tc34, tc35, tc36, tc37, tc38, tc39, tc40, tc41, tc42, tc43, tc44, tc45, tc46, tc47, tc48, tc49, tc50, tc51, tc52, tc53, tc54, tc55, tc56, tc57, tc58, tc59, tc60, tc61, tc62, tc63, tc64, tc65, tc66, tc67, tc68, tc69, tc70, tc71, tc72, tc73, tc74, tc75, tc76, tc77, tc78, tc79, tc80, tc81, tc82, tc83, tc84, tc85, tc86, tc87, tc88, tc89, tc90, tc91, tc92, tc93, tc94, tc95, tc96, tc97, ...]\n",
      "Index: []\n",
      "\n",
      "[0 rows x 104 columns]\n",
      "Empty DataFrame\n",
      "Columns: [code, total, tc00, tc01, tc02, tc03, tc04, tc05, tc06, tc07, tc08, tc09, tc10, tc11, tc12, tc13, tc14, tc15, tc16, tc17, tc18, tc19, tc20, tc21, tc22, tc23, tc24, tc25, tc26, tc27, tc28, tc29, tc30, tc31, tc32, tc33, tc34, tc35, tc36, tc37, tc38, tc39, tc40, tc41, tc42, tc43, tc44, tc45, tc46, tc47, tc48, tc49, tc50, tc51, tc52, tc53, tc54, tc55, tc56, tc57, tc58, tc59, tc60, tc61, tc62, tc63, tc64, tc65, tc66, tc67, tc68, tc69, tc70, tc71, tc72, tc73, tc74, tc75, tc76, tc77, tc78, tc79, tc80, tc81, tc82, tc83, tc84, tc85, tc86, tc87, tc88, tc89, tc90, tc91, tc92, tc93, tc94, tc95, tc96, tc97, ...]\n",
      "Index: []\n",
      "\n",
      "[0 rows x 104 columns]\n",
      "Empty DataFrame\n",
      "Columns: [code, total, tc00, tc01, tc02, tc03, tc04, tc05, tc06, tc07, tc08, tc09, tc10, tc11, tc12, tc13, tc14, tc15, tc16, tc17, tc18, tc19, tc20, tc21, tc22, tc23, tc24, tc25, tc26, tc27, tc28, tc29, tc30, tc31, tc32, tc33, tc34, tc35, tc36, tc37, tc38, tc39, tc40, tc41, tc42, tc43, tc44, tc45, tc46, tc47, tc48, tc49, tc50, tc51, tc52, tc53, tc54, tc55, tc56, tc57, tc58, tc59, tc60, tc61, tc62, tc63, tc64, tc65, tc66, tc67, tc68, tc69, tc70, tc71, tc72, tc73, tc74, tc75, tc76, tc77, tc78, tc79, tc80, tc81, tc82, tc83, tc84, tc85, tc86, tc87, tc88, tc89, tc90, tc91, tc92, tc93, tc94, tc95, tc96, tc97, ...]\n",
      "Index: []\n",
      "\n",
      "[0 rows x 104 columns]\n",
      "   code     total     tc00      tc01      tc02     tc03     tc04     tc05  \\\n",
      "2    13  43814926  4969738  11149638  10731060  7440360  4267431  2110544   \n",
      "\n",
      "      tc06    tc07  ...  tc92  tc93  tc94  tc95  tc96  tc97  tc98  tc99  \\\n",
      "2  1102986  692398  ...     0     0     0     0     0     0     0     0   \n",
      "\n",
      "   tc100                 zone  \n",
      "2      0  Tropical dry forest  \n",
      "\n",
      "[1 rows x 104 columns]\n",
      "   code      total     tc00    tc01    tc02     tc03     tc04     tc05  \\\n",
      "1    12  146232811  2484189  236898  821184  1695905  1766139  1960185   \n",
      "\n",
      "      tc06     tc07  ...  tc92  tc93  tc94  tc95  tc96  tc97  tc98  tc99  \\\n",
      "1  2684087  4364838  ...     0     0     0     0     0     0     0     0   \n",
      "\n",
      "   tc100                   zone  \n",
      "1      0  Tropical moist forest  \n",
      "\n",
      "[1 rows x 104 columns]\n",
      "   code     total     tc00     tc01     tc02    tc03    tc04    tc05    tc06  \\\n",
      "4    16  36910687  1385629  1736907  1174334  610986  380934  264842  237181   \n",
      "\n",
      "     tc07  ...  tc92  tc93  tc94  tc95  tc96  tc97  tc98  tc99  tc100  \\\n",
      "4  275819  ...     0     0     0     0     0     0     0     0      0   \n",
      "\n",
      "                       zone  \n",
      "4  Tropical mountain system  \n",
      "\n",
      "[1 rows x 104 columns]\n",
      "   code      total      tc00    tc01    tc02    tc03    tc04    tc05    tc06  \\\n",
      "0    11  283531311  22582341  162449  183655  159030  208767  346588  534868   \n",
      "\n",
      "     tc07  ...  tc92  tc93  tc94  tc95  tc96  tc97  tc98  tc99  tc100  \\\n",
      "0  787741  ...     0     0     0     0     0     0     0     0      0   \n",
      "\n",
      "                  zone  \n",
      "0  Tropical rainforest  \n",
      "\n",
      "[1 rows x 104 columns]\n",
      "   code     total     tc00     tc01    tc02    tc03    tc04     tc05     tc06  \\\n",
      "3    14  10516522  1333588  3748678  453712  514632  821244  1367181  1221846   \n",
      "\n",
      "     tc07  ...  tc92  tc93  tc94  tc95  tc96  tc97  tc98  tc99  tc100  \\\n",
      "3  597618  ...     0     0     0     0     0     0     0     0      0   \n",
      "\n",
      "                 zone  \n",
      "3  Tropical shrubland  \n",
      "\n",
      "[1 rows x 104 columns]\n",
      "   code    total    tc00    tc01   tc02   tc03   tc04   tc05   tc06   tc07  \\\n",
      "5    90  2132681  688005  185496  69090  39839  46773  47413  37787  34328   \n",
      "\n",
      "   ...  tc92  tc93  tc94  tc95  tc96  tc97  tc98  tc99  tc100   zone  \n",
      "5  ...     0     0     0     0     0     0     0     0      0  Water  \n",
      "\n",
      "[1 rows x 104 columns]\n"
     ]
    }
   ],
   "source": [
    "list_zones = zc.get_ecozones()\n",
    "for ecozone in list_zones:\n",
    "    print(df.loc[df['code'] == ecozone])"
   ]
  },
  {
   "cell_type": "code",
   "execution_count": 9,
   "metadata": {},
   "outputs": [
    {
     "name": "stdout",
     "output_type": "stream",
     "text": [
      "Tropical rainforest\n",
      "22582341\n"
     ]
    }
   ],
   "source": [
    "values = df.filter(items=['zone']+['tc{:02}'.format(i) for i in range(100)])\n",
    "values\n",
    "list_zones = [zc.get_ecozones()[code] for code in df['code']]\n",
    "for ecozone in list_zones:\n",
    "    print(ecozone)\n",
    "    tmp = df.loc[df['zone'] == ecozone]\n",
    "    values = tmp.filter(items=['tc{:02}'.format(i) for i in range(100)])\n",
    "    \n",
    "    print(values.max(axis=1).array[0])\n",
    "    \n",
    "    break"
   ]
  },
  {
   "cell_type": "code",
   "execution_count": null,
   "metadata": {},
   "outputs": [],
   "source": []
  }
 ],
 "metadata": {
  "kernelspec": {
   "display_name": "Python 3",
   "language": "python",
   "name": "python3"
  },
  "language_info": {
   "codemirror_mode": {
    "name": "ipython",
    "version": 3
   },
   "file_extension": ".py",
   "mimetype": "text/x-python",
   "name": "python",
   "nbconvert_exporter": "python",
   "pygments_lexer": "ipython3",
   "version": "3.6.9"
  }
 },
 "nbformat": 4,
 "nbformat_minor": 4
}
