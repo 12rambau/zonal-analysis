{
 "cells": [
  {
   "cell_type": "code",
   "execution_count": null,
   "metadata": {},
   "outputs": [],
   "source": [
    "from sepal_ui import aoi as sw\n",
    "\n",
    "#create the asset variables object \n",
    "za_aoi_io = sw.Aoi_io()\n",
    "\n",
    "#create the tile \n",
    "za_aoi = sw.TileAoi(za_aoi_io, ['Country boundaries', 'Draw a shape', 'Upload file', 'Use GEE asset'])\n",
    "\n",
    "#this tile will only be displayed if voila is launch from this notebook \n",
    "za_aoi"
   ]
  }
 ],
 "metadata": {
  "kernelspec": {
   "display_name": "Python 3",
   "language": "python",
   "name": "python3"
  },
  "language_info": {
   "codemirror_mode": {
    "name": "ipython",
    "version": 3
   },
   "file_extension": ".py",
   "mimetype": "text/x-python",
   "name": "python",
   "nbconvert_exporter": "python",
   "pygments_lexer": "ipython3",
   "version": "3.6.9"
  }
 },
 "nbformat": 4,
 "nbformat_minor": 4
}
