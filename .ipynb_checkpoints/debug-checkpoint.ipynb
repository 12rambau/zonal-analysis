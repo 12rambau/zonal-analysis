{
 "cells": [
  {
   "cell_type": "code",
   "execution_count": 1,
   "metadata": {},
   "outputs": [],
   "source": [
    "import ee\n",
    "import geemap\n",
    "import os"
   ]
  },
  {
   "cell_type": "code",
   "execution_count": 2,
   "metadata": {},
   "outputs": [],
   "source": [
    "ee.Initialize()"
   ]
  },
  {
   "cell_type": "code",
   "execution_count": 3,
   "metadata": {},
   "outputs": [],
   "source": [
    "list_country = [\n",
    "    'BR', #brésil\n",
    "    'CO', #colombie\n",
    "    'PE', #peru\n",
    "    'CM', #cameroun\n",
    "    'CF', #congo\n",
    "    'CG', #rdc\n",
    "    'GB', #gabon\n",
    "    'UG', #Ouganda\n",
    "    'GH', #ghana\n",
    "    'IV', #côte d'Ivoire\n",
    "    'ID', #indonésie\n",
    "    'MY', #malaisie\n",
    "]"
   ]
  },
  {
   "cell_type": "code",
   "execution_count": 4,
   "metadata": {
    "scrolled": false
   },
   "outputs": [],
   "source": [
    "Map = geemap.Map()\n",
    "#Map"
   ]
  },
  {
   "cell_type": "code",
   "execution_count": 5,
   "metadata": {},
   "outputs": [],
   "source": [
    "#add the AOI \n",
    "country_code = list_country[6] #gabon\n",
    "country = ee.FeatureCollection('USDOS/LSIB_SIMPLE/2017').filter(ee.Filter.eq('country_co', country_code))\n",
    "Map.addLayer(country, {}, 'country_code')\n",
    "Map.centerObject(country)"
   ]
  },
  {
   "cell_type": "code",
   "execution_count": 6,
   "metadata": {},
   "outputs": [],
   "source": [
    "#add dataset \n",
    "dataset = ee.ImageCollection('NASA/MEASURES/GFCC/TC/v3').filter(ee.Filter.date('2010-01-01', '2010-12-31'))\n",
    "treeCanopyCover = dataset.select('tree_canopy_cover')\n",
    "treeCanopyCoverVis = {\n",
    "  'min': 0.0,\n",
    "  'max': 100.0,\n",
    "  'palette': ['ffffff', 'afce56', '5f9c00', '0e6a00', '003800'],\n",
    "}\n",
    "\n",
    "country_gfcc_2010 = treeCanopyCover.mean().clip(country)\n",
    "\n",
    "Map.addLayer(country_gfcc_2010, treeCanopyCoverVis, 'Tree Canopy Cover');"
   ]
  },
  {
   "cell_type": "code",
   "execution_count": 7,
   "metadata": {},
   "outputs": [],
   "source": [
    "#load the ecozones \n",
    "gez_2010 = ee.Image('users/bornToBeAlive/gez_2010_wgs84')\n",
    "country_gez_2010 =  gez_2010.select('b1').clip(country)\n",
    "\n",
    "vizParam = {\n",
    "    'min': 0, \n",
    "    'max': 21,\n",
    "    'bands': ['b1'],\n",
    "    'palette': ['black', 'green', 'blue'] \n",
    "}\n",
    "\n",
    "Map.addLayer(country_gez_2010, vizParam, 'gez_2010_raster')"
   ]
  },
  {
   "cell_type": "code",
   "execution_count": 8,
   "metadata": {},
   "outputs": [],
   "source": [
    "cdl = country_gez_2010.select('b1')\n",
    "\n",
    "##mask everything that is non 0\n",
    "masked = ee.Image(cdl).updateMask(cdl.eq(0))\n",
    "country_gez_2010 = ee.Image(cdl).updateMask(cdl.neq(0))\n",
    "\n",
    "#Map.addLayer(filtered)\n",
    "Map.addLayer(masked, {'palette': 'red'}, 'masked_0')"
   ]
  },
  {
   "cell_type": "code",
   "execution_count": 9,
   "metadata": {},
   "outputs": [],
   "source": [
    "#Get the list of values from the mosaic image\n",
    "freqHist = country_gez_2010.reduceRegions(**{\n",
    "    'reducer': ee.Reducer.frequencyHistogram(), \n",
    "    'collection': country, \n",
    "    'scale': 100, \n",
    "})\n",
    "\n",
    "def getVal(feat):\n",
    "    feat = ee.Feature(feat)\n",
    "    vals = ee.Dictionary(feat.get('histogram')).keys()\n",
    "    return ee.Feature(None, {'vals': vals})\n",
    "\n",
    "#rewrite the dictionary\n",
    "values = ee.List(freqHist.map(getVal).aggregate_array('vals')).flatten().distinct()\n",
    "\n",
    "#print(values.getInfo())\n"
   ]
  },
  {
   "cell_type": "code",
   "execution_count": 10,
   "metadata": {},
   "outputs": [],
   "source": [
    "#Run reduceToVectors per class by masking all other classes.\n",
    "classes = country_gez_2010.reduceToVectors(**{\n",
    "    'reducer': ee.Reducer.countEvery(), \n",
    "    'geometry': country, \n",
    "    'scale': 100,\n",
    "    'maxPixels': 1e10\n",
    "})\n",
    "country_gez_2010_vector = ee.FeatureCollection(classes);\n",
    "\n",
    "#Create an empty image into which to paint the features, cast to byte.\n",
    "empty = ee.Image().byte()\n",
    "\n",
    "#Paint all the polygon edges with the same number and width, display.\n",
    "outline = empty.paint(**{\n",
    "    'featureCollection': country_gez_2010_vector,\n",
    "    'color': 1,\n",
    "    'width': 3\n",
    "})\n",
    "    \n",
    "Map.addLayer(outline, {'palette': '000000'}, 'gez_2010_vector')"
   ]
  },
  {
   "cell_type": "code",
   "execution_count": 11,
   "metadata": {},
   "outputs": [
    {
     "name": "stdout",
     "output_type": "stream",
     "text": [
      "Computing statistics ...\n",
      "Generating URL ...\n",
      "Downloading data from https://earthengine.googleapis.com/api/table?docid=ebf5f40498c6c89b2073f8d67d14a61d&token=bb3b4bdd0e24e693e0c8ef3bfc928cc6\n",
      "Please wait ...\n",
      "Data downloaded to /home/prambaud/downloads/GB_raw.csv\n"
     ]
    }
   ],
   "source": [
    "#add masking input\n",
    "out_dir = os.path.join(os.path.expanduser('~'), 'downloads')\n",
    "raw_stats = os.path.join(out_dir, country_code+'_raw.csv') \n",
    "\n",
    "geemap.zonal_statistics(country_gfcc_2010, country_gez_2010_vector, raw_stats, statistics_type='FIXED_HIST', hist_min=0, hist_max=100, hist_steps=50, scale=100)"
   ]
  },
  {
   "cell_type": "code",
   "execution_count": 12,
   "metadata": {},
   "outputs": [],
   "source": [
    "#create the list of zones\n",
    "#as ther are no names in the tiff file \n",
    "list_zones = {\n",
    "41: 'Boreal coniferous forest',\n",
    "43: 'Boreal mountain system',\n",
    "42: 'Boreal tundra woodland',\n",
    "50: 'Polar',\n",
    "24: 'Subtropical desert',\n",
    "22: 'Subtropical dry forest',\n",
    "21: 'Subtropical humid forest',\n",
    "25: 'Subtropical mountain system',\n",
    "23: 'Subtropical steppe',\n",
    "32: 'Temperate continental forest',\n",
    "34: 'Temperate desert',\n",
    "35: 'Temperate mountain system',\n",
    "31: 'Temperate oceanic forest',\n",
    "33: 'Temperate steppe',\n",
    "15: 'Tropical desert',\n",
    "13: 'Tropical dry forest',\n",
    "12: 'Tropical moist forest',\n",
    "16: 'Tropical mountain system',\n",
    "11: 'Tropical rainforest',\n",
    "14: 'Tropical shrubland',\n",
    "90: 'Water'\n",
    "}\n",
    "#list_zones"
   ]
  },
  {
   "cell_type": "code",
   "execution_count": 13,
   "metadata": {},
   "outputs": [],
   "source": [
    "##need first to see how it looks like\n",
    "\n",
    "import numpy as np\n",
    "import csv\n",
    "import pandas as pd\n",
    "from bqplot import *\n",
    "\n",
    "data = pd.read_csv(raw_stats, sep=',')"
   ]
  },
  {
   "cell_type": "code",
   "execution_count": 14,
   "metadata": {},
   "outputs": [],
   "source": [
    "#enlever les lignes Nan (vérifier dans le tableau d'avant qu'elles ne sont pas trop grandes)\n",
    "data = data.dropna()\n",
    "#data"
   ]
  },
  {
   "cell_type": "code",
   "execution_count": 15,
   "metadata": {},
   "outputs": [],
   "source": [
    "#recuperer les valeurs de label\n",
    "ecozones = data.label.unique()\n",
    "#ecozones"
   ]
  },
  {
   "cell_type": "code",
   "execution_count": 16,
   "metadata": {},
   "outputs": [
    {
     "ename": "NameError",
     "evalue": "name 'stats' is not defined",
     "output_type": "error",
     "traceback": [
      "\u001b[0;31m---------------------------------------------------------------------------\u001b[0m",
      "\u001b[0;31mNameError\u001b[0m                                 Traceback (most recent call last)",
      "\u001b[0;32m<ipython-input-16-52834deaddd4>\u001b[0m in \u001b[0;36m<module>\u001b[0;34m\u001b[0m\n\u001b[1;32m     11\u001b[0m \u001b[0mfigs\u001b[0m \u001b[0;34m=\u001b[0m \u001b[0;34m[\u001b[0m\u001b[0;34m]\u001b[0m\u001b[0;34m\u001b[0m\u001b[0;34m\u001b[0m\u001b[0m\n\u001b[1;32m     12\u001b[0m \u001b[0;32mfor\u001b[0m \u001b[0mecozone\u001b[0m \u001b[0;32min\u001b[0m \u001b[0mecozones\u001b[0m\u001b[0;34m:\u001b[0m\u001b[0;34m\u001b[0m\u001b[0;34m\u001b[0m\u001b[0m\n\u001b[0;32m---> 13\u001b[0;31m     \u001b[0my_sc\u001b[0m \u001b[0;34m=\u001b[0m \u001b[0mbq\u001b[0m\u001b[0;34m.\u001b[0m\u001b[0mLinearScale\u001b[0m\u001b[0;34m(\u001b[0m\u001b[0mmax\u001b[0m\u001b[0;34m=\u001b[0m\u001b[0mstats\u001b[0m\u001b[0;34m[\u001b[0m\u001b[0mlist_zones\u001b[0m\u001b[0;34m[\u001b[0m\u001b[0mecozone\u001b[0m\u001b[0;34m]\u001b[0m\u001b[0;34m]\u001b[0m\u001b[0;34m.\u001b[0m\u001b[0mmax\u001b[0m\u001b[0;34m(\u001b[0m\u001b[0;34m)\u001b[0m\u001b[0;34m)\u001b[0m\u001b[0;34m\u001b[0m\u001b[0;34m\u001b[0m\u001b[0m\n\u001b[0m\u001b[1;32m     14\u001b[0m     \u001b[0max_y\u001b[0m \u001b[0;34m=\u001b[0m \u001b[0mbq\u001b[0m\u001b[0;34m.\u001b[0m\u001b[0mAxis\u001b[0m\u001b[0;34m(\u001b[0m\u001b[0mlabel\u001b[0m\u001b[0;34m=\u001b[0m\u001b[0;34m'surface (px)'\u001b[0m\u001b[0;34m,\u001b[0m \u001b[0mscale\u001b[0m\u001b[0;34m=\u001b[0m\u001b[0my_sc\u001b[0m\u001b[0;34m,\u001b[0m \u001b[0morientation\u001b[0m\u001b[0;34m=\u001b[0m\u001b[0;34m'vertical'\u001b[0m\u001b[0;34m)\u001b[0m\u001b[0;34m\u001b[0m\u001b[0;34m\u001b[0m\u001b[0m\n\u001b[1;32m     15\u001b[0m     \u001b[0my\u001b[0m \u001b[0;34m=\u001b[0m \u001b[0;34m[\u001b[0m\u001b[0;34m]\u001b[0m\u001b[0;34m\u001b[0m\u001b[0;34m\u001b[0m\u001b[0m\n",
      "\u001b[0;31mNameError\u001b[0m: name 'stats' is not defined"
     ]
    }
   ],
   "source": [
    "import bqplot as bq\n",
    "\n",
    "x_sc = bq.OrdinalScale()\n",
    "ax_x = bq.Axis(label='treecover', scale=x_sc)\n",
    "\n",
    "\n",
    "x= []\n",
    "for i in range(0, 100, 2):\n",
    "    x.append(i)\n",
    "\n",
    "figs = []\n",
    "for ecozone in ecozones:\n",
    "    y_sc = bq.LinearScale(max=stats[list_zones[ecozone]].max())\n",
    "    ax_y = bq.Axis(label='surface (px)', scale=y_sc, orientation='vertical')\n",
    "    y = []\n",
    "    for index, row in stats.iterrows():\n",
    "        y.append(row[list_zones[ecozone]])\n",
    "    \n",
    "    mark = bq.Bars(x=x, y=y, scales={'x': x_sc, 'y': y_sc})\n",
    "    \n",
    "    fig_hist = bq.Figure(\n",
    "        marks=[mark], \n",
    "        axes=[ax_x, ax_y], \n",
    "        padding_x=0.025, \n",
    "        padding_y=0.025\n",
    "    )\n",
    "    \n",
    "    fig_hist.layout.width = 'auto'\n",
    "    fig_hist.layout.height = 'auto'\n",
    "    fig_hist.layout.min_width = \"300px\"\n",
    "    fig_hist.layout.min_height = '300px'\n",
    "    \n",
    "    figs.append(fig_hist)\n",
    "    \n",
    "for index, fig in enumerate(figs):\n",
    "    fig.title = list_zones[ecozones[index]]\n",
    "    display(fig)"
   ]
  },
  {
   "cell_type": "code",
   "execution_count": null,
   "metadata": {},
   "outputs": [],
   "source": [
    "#aggreger les lignes avec les même valeurs \n",
    "dummy = []\n",
    "for i in range(0, 100, 2):\n",
    "        dummy.append(\"{:.1f}\".format(i))\n",
    "stats = pd.DataFrame(dummy, columns=['treecover'])\n",
    "\n",
    "#stats =[]\n",
    "for index, ecozone in enumerate(ecozones): \n",
    "    patches = data.loc[data.label == ecozone]\n",
    "    label = []\n",
    "    for i in range(0, 100, 2):\n",
    "        label.append([\"{:.1f}\".format(i), 0])\n",
    "        \n",
    "    for index, row in patches.iterrows():\n",
    "        tmp = json.loads(row['histogram'])        \n",
    "        for index, value in enumerate(tmp):\n",
    "            label[index][1] += value[1]\n",
    "            \n",
    "    label = pd.DataFrame(label, columns=['treecover', list_zones[ecozone]])\n",
    "    stats = pd.merge(left=stats, right=label, left_on='treecover', right_on='treecover')\n",
    "    \n",
    "#l'écrire dans un fichier\n",
    "out_stats = os.path.join(out_dir, country_code+'_stats.csv') \n",
    "stats.to_csv(out_stats, index=False) "
   ]
  },
  {
   "cell_type": "code",
   "execution_count": null,
   "metadata": {},
   "outputs": [],
   "source": [
    "import bqplot as bq\n",
    "\n",
    "x_sc = LinearScale()\n",
    "ax_x = Axis(label='treecover', scale=x_sc)\n",
    "\n",
    "for ecozone in ecozones:\n",
    "    y_sc = LinearScale(max=stats[list_zones[ecozone]])\n",
    "    ax_y = Axis(label='Surface', scale=y_sc, orientation='vertical')\n",
    "    \n",
    "    \n",
    "    \n",
    "    bar = Bars(x=hist_x, y=hist_y, scales={'x': x_sc, 'y': y_sc})\n",
    "    \n",
    "    \n",
    "    title ='Distribution of GLAD alerts for {0} in {1}'.format(aoi_name, year)\n",
    "    fig_hist = Figure(\n",
    "        title= title,\n",
    "        marks=[bar], \n",
    "        axes=[ax_x, ax_y], \n",
    "        padding_x=0.025, \n",
    "        padding_y=0.025\n",
    "    )\n",
    "    \n",
    "    fig_hist.layout.width = 'auto'\n",
    "    fig_hist.layout.height = 'auto'\n",
    "    fig_hist.layout.min_height = '300px'"
   ]
  }
 ],
 "metadata": {
  "kernelspec": {
   "display_name": "Python 3",
   "language": "python",
   "name": "python3"
  },
  "language_info": {
   "codemirror_mode": {
    "name": "ipython",
    "version": 3
   },
   "file_extension": ".py",
   "mimetype": "text/x-python",
   "name": "python",
   "nbconvert_exporter": "python",
   "pygments_lexer": "ipython3",
   "version": "3.6.9"
  }
 },
 "nbformat": 4,
 "nbformat_minor": 4
}
