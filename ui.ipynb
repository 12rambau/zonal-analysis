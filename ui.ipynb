{
 "cells": [
  {
   "cell_type": "code",
   "execution_count": null,
   "metadata": {},
   "outputs": [],
   "source": [
    "from sepal_ui import sepalwidgets as sw\n",
    "from sepal_ui.aoi import *"
   ]
  },
  {
   "cell_type": "code",
   "execution_count": null,
   "metadata": {},
   "outputs": [],
   "source": [
    "from component.tile import *"
   ]
  },
  {
   "cell_type": "code",
   "execution_count": null,
   "metadata": {},
   "outputs": [],
   "source": [
    "aoi_tile = AoiTile(methods=['-POINTS'])"
   ]
  },
  {
   "cell_type": "code",
   "execution_count": null,
   "metadata": {},
   "outputs": [],
   "source": [
    "results_tile = sw.Tile('process_tile', 'Results', inputs=[''])"
   ]
  },
  {
   "cell_type": "code",
   "execution_count": null,
   "metadata": {},
   "outputs": [],
   "source": [
    "process = ProcessTile(aoi_tile, results_tile)\n",
    "process_tile = sw.Tile('process_tile', 'Zonal analysis', inputs=[process])"
   ]
  },
  {
   "cell_type": "code",
   "execution_count": null,
   "metadata": {},
   "outputs": [],
   "source": [
    "#create an appBar \n",
    "za_appBar = sw.AppBar('Zonal analysis on 2010 GFC data')"
   ]
  },
  {
   "cell_type": "code",
   "execution_count": null,
   "metadata": {},
   "outputs": [],
   "source": [
    "#add all the tiles\n",
    "%run 'about_ui.ipynb'\n",
    "\n",
    "za_content = [\n",
    "    aoi_tile,\n",
    "    process_tile,\n",
    "    results_tile,\n",
    "    za_about,\n",
    "    za_disclaimer    \n",
    "]"
   ]
  },
  {
   "cell_type": "code",
   "execution_count": null,
   "metadata": {},
   "outputs": [],
   "source": [
    "code_link = \"https://github.com/12rambau/zonal-analysis-cirad\"\n",
    "wiki_link = \"https://github.com/12rambau/zonal-analysis-cirad/blob/master/README.md\"\n",
    "issue_link = \"https://github.com/12rambau/zonal-analysis-cirad/issues/new\"\n",
    "\n",
    "items = [\n",
    "    sw.DrawerItem('AOI selection', 'mdi-map-marker-check', card=\"aoi_tile\"),\n",
    "    sw.DrawerItem('Zonal analysis', 'mdi-cogs', card=\"process_tile\"),\n",
    "    sw.DrawerItem('About', 'mdi-help-circle', card=\"about_tile\")\n",
    "]\n",
    "\n",
    "za_drawer = sw.NavDrawer(\n",
    "    items, \n",
    "    code = code_link, \n",
    "    wiki = wiki_link, \n",
    "    issue = issue_link).display_drawer(za_appBar.toggle_button)"
   ]
  },
  {
   "cell_type": "code",
   "execution_count": null,
   "metadata": {},
   "outputs": [],
   "source": [
    "#build the app \n",
    "za_app = sw.App(\n",
    "    tiles=za_content, \n",
    "    appBar=za_appBar, \n",
    "    navDrawer=za_drawer\n",
    ").show_tile('aoi_tile')"
   ]
  },
  {
   "cell_type": "code",
   "execution_count": null,
   "metadata": {},
   "outputs": [],
   "source": [
    "#display the app\n",
    "za_app"
   ]
  }
 ],
 "metadata": {
  "kernelspec": {
   "display_name": "Python 3",
   "language": "python",
   "name": "python3"
  },
  "language_info": {
   "codemirror_mode": {
    "name": "ipython",
    "version": 3
   },
   "file_extension": ".py",
   "mimetype": "text/x-python",
   "name": "python",
   "nbconvert_exporter": "python",
   "pygments_lexer": "ipython3",
   "version": "3.6.9"
  }
 },
 "nbformat": 4,
 "nbformat_minor": 4
}
