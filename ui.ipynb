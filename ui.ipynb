{
 "cells": [
  {
   "cell_type": "code",
   "execution_count": null,
   "metadata": {},
   "outputs": [],
   "source": [
    "from sepal_ui import sepalwidgets as sw"
   ]
  },
  {
   "cell_type": "code",
   "execution_count": null,
   "metadata": {},
   "outputs": [],
   "source": [
    "#create an appBar \n",
    "za_appBar = sw.AppBar('Zonal analysis on 2010 GFC data')"
   ]
  },
  {
   "cell_type": "code",
   "execution_count": null,
   "metadata": {},
   "outputs": [],
   "source": [
    "#add all the tiles\n",
    "%run 'aoi_selector_ui.ipynb'\n",
    "%run 'zonal_ui.ipynb'\n",
    "%run 'about_ui.ipynb'\n",
    "\n",
    "za_content = [\n",
    "    za_aoi,\n",
    "    za_process,\n",
    "    za_results,\n",
    "    za_about,\n",
    "    za_disclaimer    \n",
    "]"
   ]
  },
  {
   "cell_type": "code",
   "execution_count": null,
   "metadata": {},
   "outputs": [],
   "source": [
    "#create a drawer \n",
    "item_aoi = sw.DrawerItem('AOI selection', 'mdi-map-marker-check', card=\"aoi_widget\").display_tile(za_content)\n",
    "item_zonal = sw.DrawerItem('Zonal analysis', 'mdi-cogs', card=\"zonal_widget\").display_tile(za_content)\n",
    "item_about = sw.DrawerItem('About', 'mdi-help-circle', card=\"about_widget\").display_tile(za_content)\n",
    "\n",
    "code_link = \"https://github.com/12rambau/zonal-analysis-cirad\"\n",
    "wiki_link = \"https://github.com/12rambau/zonal-analysis-cirad/blob/master/README.md\"\n",
    "issue_link = \"https://github.com/12rambau/zonal-analysis-cirad/issues/new\"\n",
    "\n",
    "items = [\n",
    "    item_aoi,\n",
    "    item_zonal,\n",
    "    item_about\n",
    "]\n",
    "\n",
    "za_drawer = sw.NavDrawer(items, code = code_link, wiki = wiki_link, issue = issue_link).display_drawer(za_appBar.toggle_button)"
   ]
  },
  {
   "cell_type": "code",
   "execution_count": null,
   "metadata": {},
   "outputs": [],
   "source": [
    "select = 'aoi_widget'\n",
    "\n",
    "#build the app \n",
    "za_app = sw.App(\n",
    "    tiles=za_content, \n",
    "    appBar=za_appBar, \n",
    "    navDrawer=za_drawer\n",
    ").show_tile(select)"
   ]
  },
  {
   "cell_type": "code",
   "execution_count": null,
   "metadata": {},
   "outputs": [],
   "source": [
    "#display the app\n",
    "za_app"
   ]
  }
 ],
 "metadata": {
  "kernelspec": {
   "display_name": "Python 3",
   "language": "python",
   "name": "python3"
  },
  "language_info": {
   "codemirror_mode": {
    "name": "ipython",
    "version": 3
   },
   "file_extension": ".py",
   "mimetype": "text/x-python",
   "name": "python",
   "nbconvert_exporter": "python",
   "pygments_lexer": "ipython3",
   "version": "3.6.9"
  }
 },
 "nbformat": 4,
 "nbformat_minor": 4
}
